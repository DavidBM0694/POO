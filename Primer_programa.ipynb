{
  "nbformat": 4,
  "nbformat_minor": 0,
  "metadata": {
    "colab": {
      "provenance": [],
      "authorship_tag": "ABX9TyNIhNy/5spWiFYoi0Napv1I",
      "include_colab_link": true
    },
    "kernelspec": {
      "name": "python3",
      "display_name": "Python 3"
    },
    "language_info": {
      "name": "python"
    }
  },
  "cells": [
    {
      "cell_type": "markdown",
      "metadata": {
        "id": "view-in-github",
        "colab_type": "text"
      },
      "source": [
        "<a href=\"https://colab.research.google.com/github/DavidBM0694/POO/blob/main/Primer_programa.ipynb\" target=\"_parent\"><img src=\"https://colab.research.google.com/assets/colab-badge.svg\" alt=\"Open In Colab\"/></a>"
      ]
    },
    {
      "cell_type": "code",
      "execution_count": 1,
      "metadata": {
        "colab": {
          "base_uri": "https://localhost:8080/"
        },
        "id": "RScakzfu0KfG",
        "outputId": "b78504fd-d498-4255-af3d-cd1fefc14456"
      },
      "outputs": [
        {
          "output_type": "stream",
          "name": "stdout",
          "text": [
            "Hola mundo :D\n"
          ]
        }
      ],
      "source": [
        "print(\"Hola mundo :D\")"
      ]
    },
    {
      "cell_type": "markdown",
      "source": [
        "Mi primer programa hecho por : José David Bartolo Mancilla  / 6-2-25"
      ],
      "metadata": {
        "id": "bz70i1FB0YKb"
      }
    }
  ]
}