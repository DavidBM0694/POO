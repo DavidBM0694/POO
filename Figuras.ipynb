{
  "nbformat": 4,
  "nbformat_minor": 0,
  "metadata": {
    "colab": {
      "provenance": [],
      "authorship_tag": "ABX9TyNhNPML4ydJ/cTNPc7dr9tI",
      "include_colab_link": true
    },
    "kernelspec": {
      "name": "python3",
      "display_name": "Python 3"
    },
    "language_info": {
      "name": "python"
    }
  },
  "cells": [
    {
      "cell_type": "markdown",
      "metadata": {
        "id": "view-in-github",
        "colab_type": "text"
      },
      "source": [
        "<a href=\"https://colab.research.google.com/github/DavidBM0694/POO/blob/main/Figuras.ipynb\" target=\"_parent\"><img src=\"https://colab.research.google.com/assets/colab-badge.svg\" alt=\"Open In Colab\"/></a>"
      ]
    },
    {
      "cell_type": "markdown",
      "source": [
        "Programa hecho por: José David Bartolo Mancilla / 6-2-25"
      ],
      "metadata": {
        "id": "BdOl7kTpNhaj"
      }
    },
    {
      "cell_type": "code",
      "execution_count": 20,
      "metadata": {
        "id": "bk1RKw4eNeQK"
      },
      "outputs": [],
      "source": [
        "class Figuras:\n",
        "  def __init__(self):\n",
        "    self.base = 0\n",
        "    self.altura = 0\n",
        "    self.pi = 3.141592\n",
        "    self.radio = 0\n",
        "    self.msg = \"\"\n",
        "\n",
        "  def triangulo(self):\n",
        "      self.msg = \"El area del triangulo con base\",self.base,\"y altura de \",self.altura,\" es: \"\n",
        "      self.Resultado = (self.base * self.altura)/2\n",
        "\n",
        "  def cuadrado(self):\n",
        "      self.msg = \"El area del cuadrado con lado de \",self.base,\" es: \"\n",
        "      self.Resultado = self.base**2\n",
        "\n",
        "  def rectangulo(self):\n",
        "      self.msg = \"El area del rectangulo con base de \",self.base,\" y altura de \",self.altura,\" es: \"\n",
        "      self.Resultado = self.base * self.altura\n",
        "\n",
        "  def circulo(self):\n",
        "      self.msg = \"El area del circulo con radio de \",self.radio,\" es: \"\n",
        "      self.Resultado = self.pi * (self.radio**2)\n",
        "\n",
        "  def imprimir(self):\n",
        "     print(self.msg,self.Resultado)"
      ]
    },
    {
      "cell_type": "code",
      "source": [
        "obj=Figuras()\n",
        "obj.base = int(input(\"Ingresa la base : \"))\n",
        "obj.altura = int(input(\"Ingresa la altura : \"))\n",
        "obj.radio = int(input(\"Ingresa el radio del circulo: \"))\n",
        "\n",
        "obj.cuadrado()\n",
        "obj.imprimir()\n",
        "obj.rectangulo()\n",
        "obj.imprimir()\n",
        "obj.circulo()\n",
        "obj.imprimir()\n",
        "obj.triangulo()\n",
        "obj.imprimir()"
      ],
      "metadata": {
        "colab": {
          "base_uri": "https://localhost:8080/"
        },
        "id": "YqsBO1JPQDtT",
        "outputId": "908c182f-ba73-49fa-82c7-3e4c958e37cc"
      },
      "execution_count": 21,
      "outputs": [
        {
          "output_type": "stream",
          "name": "stdout",
          "text": [
            "Ingresa la base : 5\n",
            "Ingresa la altura : 8\n",
            "Ingresa el radio del circulo: 9\n",
            "('El area del cuadrado con lado de ', 5, ' es: ') 25\n",
            "('El area del rectangulo con base de ', 5, ' y altura de ', 8, ' es: ') 40\n",
            "('El area del circulo con radio de ', 9, ' es: ') 254.468952\n",
            "('El area del triangulo con base', 5, 'y altura de ', 8, ' es: ') 20.0\n"
          ]
        }
      ]
    }
  ]
}