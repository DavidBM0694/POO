{
  "nbformat": 4,
  "nbformat_minor": 0,
  "metadata": {
    "colab": {
      "provenance": [],
      "authorship_tag": "ABX9TyNinkyrdGdbX63u4MxQBCqW",
      "include_colab_link": true
    },
    "kernelspec": {
      "name": "python3",
      "display_name": "Python 3"
    },
    "language_info": {
      "name": "python"
    }
  },
  "cells": [
    {
      "cell_type": "markdown",
      "metadata": {
        "id": "view-in-github",
        "colab_type": "text"
      },
      "source": [
        "<a href=\"https://colab.research.google.com/github/DavidBM0694/POO/blob/main/Operaciones.ipynb\" target=\"_parent\"><img src=\"https://colab.research.google.com/assets/colab-badge.svg\" alt=\"Open In Colab\"/></a>"
      ]
    },
    {
      "cell_type": "markdown",
      "source": [
        "Programa hecho por: José David Bartolo Mancilla / 6-2-25"
      ],
      "metadata": {
        "id": "fbFRkM7J_BEp"
      }
    },
    {
      "cell_type": "code",
      "source": [
        "class Suma:\n",
        "  def __init__(self):\n",
        "    self.valorA = 1\n",
        "    self.valorB = 2\n",
        "\n",
        "  def operacion(self):\n",
        "    Resultado = self.valorA + self.valorB\n",
        "    print(Resultado)\n",
        "\n",
        "obj = Suma()\n",
        "obj.operacion()"
      ],
      "metadata": {
        "colab": {
          "base_uri": "https://localhost:8080/"
        },
        "id": "fQBOn6Yy_L5p",
        "outputId": "57d4d51a-c7fe-4d95-8566-11f6a98522e5"
      },
      "execution_count": null,
      "outputs": [
        {
          "output_type": "stream",
          "name": "stdout",
          "text": [
            "3\n"
          ]
        }
      ]
    },
    {
      "cell_type": "markdown",
      "source": [
        "Variante 2 Pididento valores"
      ],
      "metadata": {
        "id": "TDjenWi6DHJ9"
      }
    },
    {
      "cell_type": "code",
      "source": [
        "\n",
        "class Operaciones:\n",
        "  def __init__(self):\n",
        "    self.valorA = 0\n",
        "    self.valorB = 0\n",
        "    self.Resultado = 0\n",
        "    self.msg = \"\"\n",
        "\n",
        "  def suma(self):\n",
        "    self.msg = \"La suma de \" ,self.valorA, \" y \" ,self.valorB, \" es: \"\n",
        "    self.Resultado = self.valorA + self.valorB\n",
        "\n",
        "  def resta(self):\n",
        "    self.msg = \"La resta de \",self.valorA,\" y \",self.valorB,\" es: \"\n",
        "    self.Resultado = self.valorA - self.valorB\n",
        "\n",
        "  def multiplicacion(self):\n",
        "    self.msg = \"La multiplicación de \",self.valorA,\" y \",self.valorB,\" es: \"\n",
        "    self.Resultado = self.valorA * self.valorB\n",
        "\n",
        "  def division(self):\n",
        "    self.msg = \"La División de \",self.valorA,\" y \",self.valorB,\" es: \"\n",
        "    self.Resultado = self.valorA / self.valorB\n",
        "\n",
        "\n",
        "  def imprimir(self):\n",
        "    print(self.msg,self.Resultado)\n"
      ],
      "metadata": {
        "id": "7KaZrsOADSoC"
      },
      "execution_count": 26,
      "outputs": []
    },
    {
      "cell_type": "code",
      "source": [
        "obj=Operaciones()\n",
        "obj.valorA = int(input(\"Ingresa el primer dato: \"))\n",
        "obj.valorB = int(input(\"Ingresa el segundo dato: \"))\n",
        "obj.suma()\n",
        "obj.imprimir()\n",
        "obj.resta()\n",
        "obj.imprimir()\n",
        "obj.multiplicacion()\n",
        "obj.imprimir()\n",
        "obj.division()\n",
        "obj.imprimir()\n",
        "\n"
      ],
      "metadata": {
        "colab": {
          "base_uri": "https://localhost:8080/"
        },
        "id": "Vy7dDFSMD5dh",
        "outputId": "5d329b7e-f9ce-479d-d5eb-cdf55a4bab49"
      },
      "execution_count": 27,
      "outputs": [
        {
          "output_type": "stream",
          "name": "stdout",
          "text": [
            "Ingresa el primer dato: 6\n",
            "Ingresa el segundo dato: 9\n",
            "('La suma de ', 6, ' y ', 9, ' es: ') 15\n",
            "('La resta de ', 6, ' y ', 9, ' es: ') -3\n",
            "('La multiplicación de ', 6, ' y ', 9, ' es: ') 54\n",
            "('La División de ', 6, ' y ', 9, ' es: ') 0.6666666666666666\n"
          ]
        }
      ]
    }
  ]
}