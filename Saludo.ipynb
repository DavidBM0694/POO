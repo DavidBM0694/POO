{
  "nbformat": 4,
  "nbformat_minor": 0,
  "metadata": {
    "colab": {
      "provenance": [],
      "authorship_tag": "ABX9TyN2c5ZDNRGjhpKOmJYRx8KV",
      "include_colab_link": true
    },
    "kernelspec": {
      "name": "python3",
      "display_name": "Python 3"
    },
    "language_info": {
      "name": "python"
    }
  },
  "cells": [
    {
      "cell_type": "markdown",
      "metadata": {
        "id": "view-in-github",
        "colab_type": "text"
      },
      "source": [
        "<a href=\"https://colab.research.google.com/github/DavidBM0694/POO/blob/main/Saludo.ipynb\" target=\"_parent\"><img src=\"https://colab.research.google.com/assets/colab-badge.svg\" alt=\"Open In Colab\"/></a>"
      ]
    },
    {
      "cell_type": "markdown",
      "source": [
        "Programa hecho por: José David Bartolo Mancilla / 6-2-25"
      ],
      "metadata": {
        "id": "O9E7_f9s7TGW"
      }
    },
    {
      "cell_type": "code",
      "execution_count": 6,
      "metadata": {
        "id": "WJ9nc-4O3Bt0"
      },
      "outputs": [],
      "source": [
        "class Saludo:\n",
        "\n",
        "  def __init__(self):\n",
        "    self.nombre=\"David\"\n",
        "\n",
        "\n",
        "  def saluda(self):\n",
        "    print(\"Hola\",self.nombre)\n"
      ]
    },
    {
      "cell_type": "code",
      "source": [
        "x = Saludo()\n",
        "x.saluda()"
      ],
      "metadata": {
        "colab": {
          "base_uri": "https://localhost:8080/"
        },
        "id": "gUaHm_Yf7vrh",
        "outputId": "669fe725-8692-4a2d-8471-5cab95e3eaec"
      },
      "execution_count": 5,
      "outputs": [
        {
          "output_type": "stream",
          "name": "stdout",
          "text": [
            "Hola David\n"
          ]
        }
      ]
    }
  ]
}